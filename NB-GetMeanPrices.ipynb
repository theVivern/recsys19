{
 "cells": [
  {
   "cell_type": "code",
   "execution_count": 1,
   "metadata": {},
   "outputs": [],
   "source": [
    "import pandas as pd\n",
    "import numpy as np\n",
    "import gc\n",
    "import pickle\n",
    "\n",
    "from sklearn.naive_bayes import *\n",
    "from sklearn import preprocessing\n",
    "from sklearn.externals import joblib\n",
    "\n",
    "import time\n",
    "\n",
    "# %% Imports\n",
    "from pathlib import Path\n",
    "import sys\n",
    "root_dir = Path().resolve()\n",
    "sys.path.append(str(root_dir / 'src'))\n",
    "\n",
    "from recsys_common import *\n",
    "from recsys_naive_bayes_processing import *"
   ]
  },
  {
   "cell_type": "code",
   "execution_count": 2,
   "metadata": {},
   "outputs": [],
   "source": [
    "config= {\n",
    "    'save_train_test_val': True,\n",
    "    'load_fitted_model': False,\n",
    "    \n",
    "    'use_subset': False,\n",
    "    'subset_frac': 0.01,\n",
    "    'use_validation': False,\n",
    "    'validation_frac': 0.25,\n",
    "    'reference_to_nan_frac': 1,\n",
    "    'reference_to_nan_seed': 1234,\n",
    "    \n",
    "    'session_length': 3,\n",
    "    \n",
    "    'train_session_chunksize': 5000,\n",
    "    'parts_nrows_test': 5000,\n",
    "    'parts_path_to_data': root_dir / 'cache' / 'parts',\n",
    "    'data_path': root_dir / 'cache'\n",
    "    }\n",
    "\n",
    "\n",
    "if not config['use_subset']:\n",
    "    config['subset_frac']=1\n",
    "\n",
    "config['le_pickle_path']=config['data_path'] / ('NB_data_' + str(int(100*config['subset_frac'])).zfill(3) + '_' + str(config['session_length']) + '_le.pickle')\n",
    "config['train_csv_path']=config['data_path'] / ('NB_data_' + str(int(100*config['subset_frac'])).zfill(3) + '_' + str(config['session_length']) +  '_train.csv')\n",
    "config['train_last_step_csv_path']=config['data_path'] / ('NB_data_' + str(int(100*config['subset_frac'])).zfill(3) + '_' + str(config['session_length']) +  '_train_last_step.csv')\n",
    "config['test_csv_path']=config['data_path'] / ('NB_data_' + str(int(100*config['subset_frac'])).zfill(3) + '_' + str(config['session_length']) +  '_test.csv')\n",
    "config['val_csv_path']=config['data_path'] / ('NB_data_' + str(int(100*config['subset_frac'])).zfill(3) + '_' + str(config['session_length']) +  '_val.csv')\n",
    "config['model_pickle_path']=config['data_path'] / ('NB_data_' + str(int(100*config['subset_frac'])).zfill(3) + '_' + str(config['session_length']) +  '_model.pickle')\n",
    "config['val_long_csv_path']=config['data_path'] / ('NB_data_' + str(int(100*config['subset_frac'])).zfill(3) + '_' + str(config['session_length']) +  '_val_long.csv')\n",
    "config['output_recsys_csv_path']=config['data_path'] / ('NB_data_' + str(int(100*config['subset_frac'])).zfill(3) + '_' + str(config['session_length']) +  '_output_recsys.csv')\n",
    "config['output_meta_csv_path']=config['data_path'] / ('NB_data_' + str(int(100*config['subset_frac'])).zfill(3) + '_' + str(config['session_length']) +  '_output_meta.csv')\n"
   ]
  },
  {
   "cell_type": "code",
   "execution_count": 3,
   "metadata": {},
   "outputs": [
    {
     "name": "stdout",
     "output_type": "stream",
     "text": [
      "Getting sessions\n",
      "Filter session with no clickout\n",
      "filtering sessions with clickout\n",
      "(17907922, 13)\n"
     ]
    }
   ],
   "source": [
    "meta=get_metadata()\n",
    "# meta.dtypes\n",
    "\n",
    "meta['item_id']=meta['item_id'].astype(str)\n",
    "\n",
    "print('Getting sessions')\n",
    "sessions=get_sessions(config['use_subset'],\n",
    "                      config['subset_frac'],\n",
    "                      config['use_validation'],\n",
    "                      config['validation_frac'],\n",
    "                      config['reference_to_nan_frac'],\n",
    "                      config['reference_to_nan_seed'])\n",
    "\n",
    "print('Filter session with no clickout')\n",
    "if (not config['use_validation']) & (not config['use_subset']):\n",
    "    print('filtering sessions with clickout')\n",
    "    sessions=filter_sessions_with_no_clicks(sessions)\n",
    "    \n",
    "print(sessions.shape)"
   ]
  },
  {
   "cell_type": "code",
   "execution_count": null,
   "metadata": {},
   "outputs": [],
   "source": []
  },
  {
   "cell_type": "code",
   "execution_count": 4,
   "metadata": {},
   "outputs": [],
   "source": [
    "\n",
    "sessions['impressions']=sessions['impressions'].str.split('\\\\|')\n",
    "sessions['prices']=sessions['prices'].str.split('\\\\|')"
   ]
  },
  {
   "cell_type": "code",
   "execution_count": null,
   "metadata": {},
   "outputs": [],
   "source": []
  },
  {
   "cell_type": "code",
   "execution_count": 5,
   "metadata": {},
   "outputs": [],
   "source": [
    "l=sessions.loc[~(sessions.impressions.isnull()),'impressions'].tolist()\n",
    "\n",
    "imp_flat = [item for sublist in l for item in sublist]\n",
    "\n",
    "l=sessions.loc[~(sessions.impressions.isnull()),'prices'].tolist()\n",
    "\n",
    "prices_flat = [item for sublist in l for item in sublist]\n",
    "\n",
    "prices = pd.DataFrame(data={'reference':imp_flat, 'prices':prices_flat})\n",
    "\n",
    "prices['prices']=prices['prices'].astype(int)"
   ]
  },
  {
   "cell_type": "code",
   "execution_count": 6,
   "metadata": {},
   "outputs": [],
   "source": [
    "prices=prices.groupby('reference').prices.mean().reset_index()"
   ]
  },
  {
   "cell_type": "code",
   "execution_count": 7,
   "metadata": {},
   "outputs": [],
   "source": [
    "prices.columns=['reference','mean_prices']\n",
    "\n",
    "n_splits = 10\n",
    "stats=prices['mean_prices'].describe(percentiles=np.linspace(0,1,n_splits))\n",
    "\n",
    "prices['mean_prices']=pd.cut(prices['mean_prices'],bins=np.append(0.0,stats[4:(n_splits+5)]),labels=np.linspace(0,n_splits,n_splits+1))\n"
   ]
  },
  {
   "cell_type": "code",
   "execution_count": 8,
   "metadata": {},
   "outputs": [],
   "source": [
    "prices.to_pickle(root_dir / 'cache' / 'mean_prices.pickle')"
   ]
  },
  {
   "cell_type": "code",
   "execution_count": 9,
   "metadata": {},
   "outputs": [],
   "source": [
    "# sessions=sessions.join(prices.set_index('reference'),on='reference')"
   ]
  },
  {
   "cell_type": "code",
   "execution_count": 10,
   "metadata": {},
   "outputs": [],
   "source": [
    "# sessions"
   ]
  }
 ],
 "metadata": {
  "kernelspec": {
   "display_name": "Python 3",
   "language": "python",
   "name": "python3"
  },
  "language_info": {
   "codemirror_mode": {
    "name": "ipython",
    "version": 3
   },
   "file_extension": ".py",
   "mimetype": "text/x-python",
   "name": "python",
   "nbconvert_exporter": "python",
   "pygments_lexer": "ipython3",
   "version": "3.7.1"
  }
 },
 "nbformat": 4,
 "nbformat_minor": 2
}
