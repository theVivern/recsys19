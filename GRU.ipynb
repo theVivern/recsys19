{
 "cells": [
  {
   "cell_type": "code",
   "execution_count": 1,
   "metadata": {},
   "outputs": [
    {
     "name": "stderr",
     "output_type": "stream",
     "text": [
      "WARNING (theano.configdefaults): g++ not available, if using conda: `conda install m2w64-toolchain`\n",
      "c:\\users\\cwimm\\appdata\\local\\programs\\python\\python36\\lib\\site-packages\\theano\\configdefaults.py:560: UserWarning: DeprecationWarning: there is no c++ compiler.This is deprecated and with Theano 0.11 a c++ compiler will be mandatory\n",
      "  warnings.warn(\"DeprecationWarning: there is no c++ compiler.\"\n",
      "WARNING (theano.configdefaults): g++ not detected ! Theano will be unable to execute optimized C-implementations (for both CPU and GPU) and will default to Python implementations. Performance will be severely degraded. To remove this warning, set Theano flags cxx to an empty string.\n",
      "WARNING (theano.tensor.blas): Using NumPy C-API based implementation for BLAS functions.\n",
      "Using TensorFlow backend.\n"
     ]
    }
   ],
   "source": [
    "import os\n",
    "\n",
    "# if you want to use the GPU\n",
    "#device = 'gpu'\n",
    "#os.environ['THEANO_FLAGS']='mode=FAST_RUN,device=' + device + ',floatX=float32'\n",
    "\n",
    "import argparse\n",
    "import csv\n",
    "import datetime\n",
    "import glob\n",
    "import math\n",
    "import sys\n",
    "import time\n",
    "import cv2\n",
    "import random\n",
    "import pickle\n",
    "import itertools\n",
    "\n",
    "import matplotlib.pyplot as plt\n",
    "\n",
    "import numpy as np\n",
    "import sklearn.metrics as metrics\n",
    "from sklearn.metrics import accuracy_score\n",
    "\n",
    "from PIL import Image\n",
    "#import theano\n",
    "from theano import config\n",
    "\n",
    "import keras\n",
    "from keras.models import Sequential, load_model\n",
    "from keras.layers import Conv2D, MaxPooling2D, Dense, Dropout, Activation, Flatten\n",
    "from keras.layers import GRU, LSTM, CuDNNGRU, CuDNNLSTM, Activation\n",
    "from keras.preprocessing.sequence import pad_sequences\n",
    "from keras.layers.normalization import BatchNormalization\n",
    "from keras.callbacks import ModelCheckpoint\n",
    "from keras import backend as K\n",
    "from keras.models import load_model\n",
    "import h5py\n",
    "\n",
    "\n",
    "# %% Imports\n",
    "from pathlib import Path\n",
    "import sys\n",
    "root_dir = Path().resolve()\n",
    "sys.path.append(str(root_dir / 'src'))\n",
    "\n",
    "from recsys_common import *\n",
    "\n",
    "np.random.seed(123) "
   ]
  },
  {
   "cell_type": "markdown",
   "metadata": {},
   "source": [
    "## Load the Data"
   ]
  },
  {
   "cell_type": "code",
   "execution_count": 10,
   "metadata": {},
   "outputs": [],
   "source": [
    "X_train = pickle.load(open(\"X_train.pickle\", \"rb\"))\n",
    "y_train = pickle.load(open(\"y_train.pickle\", \"rb\"))\n",
    "\n",
    "X_val = pickle.load(open(\"X_val.pickle\", \"rb\"))\n",
    "y_val = pickle.load(open(\"y_val.pickle\", \"rb\"))"
   ]
  },
  {
   "cell_type": "markdown",
   "metadata": {},
   "source": [
    "## Padding"
   ]
  },
  {
   "cell_type": "code",
   "execution_count": null,
   "metadata": {},
   "outputs": [],
   "source": [
    "# pad the sequences with zeros \n",
    "# padding parameter is set to 'post' => 0's are appended to end of sequences\n",
    "\n",
    "X_train = pad_sequences(X_train, maxlen = maxlen, padding = 'post')\n",
    "X_val = pad_sequences(X_val, maxlen = maxlen, padding = 'post')\n",
    "X_train = X_train.reshape(X_train.shape + (1,))\n",
    "X_val = X_val.reshape(X_val.shape + (1,))"
   ]
  },
  {
   "cell_type": "markdown",
   "metadata": {},
   "source": [
    "## Normalization"
   ]
  },
  {
   "cell_type": "code",
   "execution_count": null,
   "metadata": {},
   "outputs": [],
   "source": [
    "X_train = keras.utils.normalize(X_train, axis=1)\n",
    "X_val = keras.utils.normalize(X_val, axis=1)"
   ]
  },
  {
   "cell_type": "markdown",
   "metadata": {},
   "source": [
    "## Creating CNN Models in Keras"
   ]
  },
  {
   "cell_type": "code",
   "execution_count": 12,
   "metadata": {},
   "outputs": [],
   "source": [
    "epochs = 10\n",
    "batch_size = 16\n",
    "val_split = 0.1"
   ]
  },
  {
   "cell_type": "code",
   "execution_count": 15,
   "metadata": {},
   "outputs": [
    {
     "name": "stdout",
     "output_type": "stream",
     "text": [
      "RECSYS-GRU-1563103971\n",
      "Train on 784 samples, validate on 88 samples\n",
      "Epoch 1/10\n",
      "784/784 [==============================] - 72s 92ms/step - loss: 3.4001 - acc: 0.0395 - val_loss: 3.3974 - val_acc: 0.0682\n",
      "\n",
      "Epoch 00001: val_acc improved from -inf to 0.06818, saving model to C:\\1Christoph\\Uni\\TU\\2. Semester\\Recommender Systems Team Project\\YYY\\GRU Best Model\\2Model01-3.40-0.07.h5\n",
      "Epoch 2/10\n",
      "784/784 [==============================] - 75s 96ms/step - loss: 3.3243 - acc: 0.0587 - val_loss: 3.2284 - val_acc: 0.0568\n",
      "\n",
      "Epoch 00002: val_acc did not improve from 0.06818\n",
      "Epoch 3/10\n",
      "784/784 [==============================] - 74s 95ms/step - loss: 3.1480 - acc: 0.0778 - val_loss: 2.9824 - val_acc: 0.0909\n",
      "\n",
      "Epoch 00003: val_acc improved from 0.06818 to 0.09091, saving model to C:\\1Christoph\\Uni\\TU\\2. Semester\\Recommender Systems Team Project\\YYY\\GRU Best Model\\2Model03-2.98-0.09.h5\n",
      "Epoch 4/10\n",
      "784/784 [==============================] - 72s 92ms/step - loss: 3.0123 - acc: 0.1020 - val_loss: 3.0804 - val_acc: 0.1250\n",
      "\n",
      "Epoch 00004: val_acc improved from 0.09091 to 0.12500, saving model to C:\\1Christoph\\Uni\\TU\\2. Semester\\Recommender Systems Team Project\\YYY\\GRU Best Model\\2Model04-3.08-0.12.h5\n",
      "Epoch 5/10\n",
      "784/784 [==============================] - 72s 92ms/step - loss: 2.9248 - acc: 0.0893 - val_loss: 2.9464 - val_acc: 0.1250\n",
      "\n",
      "Epoch 00005: val_acc did not improve from 0.12500\n",
      "Epoch 6/10\n",
      "784/784 [==============================] - 73s 94ms/step - loss: 2.8951 - acc: 0.1122 - val_loss: 2.8898 - val_acc: 0.1136\n",
      "\n",
      "Epoch 00006: val_acc did not improve from 0.12500\n",
      "Epoch 7/10\n",
      "784/784 [==============================] - 72s 91ms/step - loss: 2.8488 - acc: 0.1250 - val_loss: 2.9303 - val_acc: 0.0795\n",
      "\n",
      "Epoch 00007: val_acc did not improve from 0.12500\n",
      "Epoch 8/10\n",
      "784/784 [==============================] - 73s 94ms/step - loss: 2.7500 - acc: 0.1645 - val_loss: 2.9522 - val_acc: 0.1023\n",
      "\n",
      "Epoch 00008: val_acc did not improve from 0.12500\n",
      "Epoch 9/10\n",
      "784/784 [==============================] - 75s 95ms/step - loss: 2.6724 - acc: 0.1620 - val_loss: 2.9503 - val_acc: 0.1364\n",
      "\n",
      "Epoch 00009: val_acc improved from 0.12500 to 0.13636, saving model to C:\\1Christoph\\Uni\\TU\\2. Semester\\Recommender Systems Team Project\\YYY\\GRU Best Model\\2Model09-2.95-0.14.h5\n",
      "Epoch 10/10\n",
      "784/784 [==============================] - 74s 94ms/step - loss: 2.5706 - acc: 0.1888 - val_loss: 3.1607 - val_acc: 0.1477\n",
      "\n",
      "Epoch 00010: val_acc improved from 0.13636 to 0.14773, saving model to C:\\1Christoph\\Uni\\TU\\2. Semester\\Recommender Systems Team Project\\YYY\\GRU Best Model\\2Model10-3.16-0.15.h5\n"
     ]
    }
   ],
   "source": [
    "np.random.seed(123)\n",
    "\n",
    "NAME = \"RECSYS-GRU-{}\".format(int(time.time()))\n",
    "#tensorboard = TensorBoard(log_dir='logs/{}'.format(NAME))\n",
    "\n",
    "print(NAME)\n",
    "            \n",
    "model = Sequential()\n",
    "\n",
    "# Input Layer\n",
    "model.add(GRU(256, input_shape = X_train.shape[1:]))\n",
    "model.add(Activation(\"relu\"))\n",
    "\n",
    "# GRU Layers\n",
    "\n",
    "model.add(GRU(256)\n",
    "model.add(Activation(\"relu\"))\n",
    "model.add(MaxPooling2D(pool_size=(2,2)))\n",
    "model.add(Dropout(0.3))\n",
    "\n",
    "model.add(Flatten())\n",
    "            \n",
    "# Dense Layers\n",
    "\n",
    "model.add(Dense(160))\n",
    "model.add(Activation(\"relu\"))\n",
    "model.add(Dropout(0.3))\n",
    "\n",
    "#Output Layer\n",
    "model.add(Dense(157))\n",
    "model.add(Activation(\"sigmoid\"))\n",
    "#model.add(Activation(\"softmax\"))\n",
    "\n",
    "model.compile(loss=\"mean_squared_error\",\n",
    "              optimizer=\"adam\",\n",
    "#              optimizer=\"sgd\",\n",
    "              metrics=[\"accuracy\"])\n",
    "\n",
    "checkpointer = ModelCheckpoint(filepath='C:\\\\1Christoph\\\\Uni\\\\TU\\\\2. Semester\\\\Recommender Systems Team Project\\\\YYY\\\\GRU Best Model\\\\2Model{epoch:02d}-{val_loss:.2f}-{val_acc:.2f}.h5',monitor='val_acc', verbose=1, save_best_only=True)\n",
    "\n",
    "model_fit = model.fit(X_train, y_train, batch_size=batch_size, epochs=epochs, validation_split=val_split, callbacks=[checkpointer])\n",
    "\n",
    "model.save(f\"RECSYS-CNN-2-Epochs-adam-GRU-{int(time.time())}.h5\")"
   ]
  },
  {
   "cell_type": "code",
   "execution_count": 17,
   "metadata": {},
   "outputs": [],
   "source": [
    "model1 = load_model('GRU Best Model\\\\2Model10-3.16-0.15.h5')"
   ]
  },
  {
   "cell_type": "code",
   "execution_count": 18,
   "metadata": {},
   "outputs": [
    {
     "data": {
      "text/plain": [
       "0.12087912087912088"
      ]
     },
     "execution_count": 18,
     "metadata": {},
     "output_type": "execute_result"
    }
   ],
   "source": [
    "predictions = model1.predict_classes(X_val)\n",
    "accuracy_score(y_val, predictions)"
   ]
  },
  {
   "cell_type": "markdown",
   "metadata": {},
   "source": [
    "### Plotting the Training Curve"
   ]
  },
  {
   "cell_type": "code",
   "execution_count": 19,
   "metadata": {},
   "outputs": [
    {
     "data": {
      "text/plain": [
       "dict_keys(['val_loss', 'val_acc', 'loss', 'acc'])"
      ]
     },
     "execution_count": 19,
     "metadata": {},
     "output_type": "execute_result"
    }
   ],
   "source": [
    "hist = model_fit.history\n",
    "hist.keys()"
   ]
  },
  {
   "cell_type": "code",
   "execution_count": 20,
   "metadata": {},
   "outputs": [
    {
     "data": {
      "text/plain": [
       "<matplotlib.legend.Legend at 0x1e4dbb7cd30>"
      ]
     },
     "execution_count": 20,
     "metadata": {},
     "output_type": "execute_result"
    },
    {
     "data": {
      "image/png": "[encoded data removed]",
      "text/plain": [
       "<Figure size 720x432 with 1 Axes>"
      ]
     },
     "metadata": {
      "needs_background": "light"
     },
     "output_type": "display_data"
    }
   ],
   "source": [
    "%matplotlib inline \n",
    "\n",
    "colors = {'loss':'r', 'acc':'b', 'val_loss':'m', 'val_acc':'g'}\n",
    "plt.figure(figsize=(10,6))\n",
    "plt.title(\"Training Curve\") \n",
    "plt.xlabel(\"Epoch\")\n",
    "\n",
    "for measure in hist.keys():\n",
    "    color = colors[measure]\n",
    "    plt.plot(range(1,epochs+1), hist[measure], color + '-', label=measure)  # use last 2 values to draw line\n",
    "\n",
    "plt.legend(loc='upper left', scatterpoints = 1, frameon=False)"
   ]
  },
  {
   "cell_type": "markdown",
   "metadata": {},
   "source": [
    "### Model 2"
   ]
  },
  {
   "cell_type": "code",
   "execution_count": 21,
   "metadata": {},
   "outputs": [],
   "source": [
    "epochs = 10\n",
    "batch_size = 16\n",
    "val_split = 0.1"
   ]
  },
  {
   "cell_type": "code",
   "execution_count": 22,
   "metadata": {},
   "outputs": [
    {
     "name": "stdout",
     "output_type": "stream",
     "text": [
      "RECSYS-GRU-1563104940\n",
      "Train on 784 samples, validate on 88 samples\n",
      "Epoch 1/10\n",
      "784/784 [==============================] - 74s 94ms/step - loss: 3.3993 - acc: 0.0395 - val_loss: 3.3836 - val_acc: 0.0682\n",
      "\n",
      "Epoch 00001: val_acc improved from -inf to 0.06818, saving model to C:\\1Christoph\\Uni\\TU\\2. Semester\\Recommender Systems Team Project\\YYY\\GRU Best Model\\2Model01-3.38-0.07.h5\n",
      "Epoch 2/10\n",
      "784/784 [==============================] - 74s 94ms/step - loss: 3.2897 - acc: 0.0587 - val_loss: 3.1175 - val_acc: 0.0227\n",
      "\n",
      "Epoch 00002: val_acc did not improve from 0.06818\n",
      "Epoch 3/10\n",
      "784/784 [==============================] - 73s 93ms/step - loss: 3.0953 - acc: 0.0714 - val_loss: 3.1169 - val_acc: 0.0227\n",
      "\n",
      "Epoch 00003: val_acc did not improve from 0.06818\n",
      "Epoch 4/10\n",
      "784/784 [==============================] - 74s 94ms/step - loss: 3.0028 - acc: 0.0944 - val_loss: 3.2056 - val_acc: 0.0795\n",
      "\n",
      "Epoch 00004: val_acc improved from 0.06818 to 0.07955, saving model to C:\\1Christoph\\Uni\\TU\\2. Semester\\Recommender Systems Team Project\\YYY\\GRU Best Model\\2Model04-3.21-0.08.h5\n",
      "Epoch 5/10\n",
      "784/784 [==============================] - 74s 94ms/step - loss: 2.9498 - acc: 0.0893 - val_loss: 2.9536 - val_acc: 0.0455\n",
      "\n",
      "Epoch 00005: val_acc did not improve from 0.07955\n",
      "Epoch 6/10\n",
      "784/784 [==============================] - 78s 100ms/step - loss: 2.8834 - acc: 0.1161 - val_loss: 2.9193 - val_acc: 0.1364\n",
      "\n",
      "Epoch 00006: val_acc improved from 0.07955 to 0.13636, saving model to C:\\1Christoph\\Uni\\TU\\2. Semester\\Recommender Systems Team Project\\YYY\\GRU Best Model\\2Model06-2.92-0.14.h5\n",
      "Epoch 7/10\n",
      "784/784 [==============================] - 80s 102ms/step - loss: 2.8749 - acc: 0.1199 - val_loss: 2.9677 - val_acc: 0.0909\n",
      "\n",
      "Epoch 00007: val_acc did not improve from 0.13636\n",
      "Epoch 8/10\n",
      "784/784 [==============================] - 80s 102ms/step - loss: 2.7832 - acc: 0.1556 - val_loss: 2.8873 - val_acc: 0.0909\n",
      "\n",
      "Epoch 00008: val_acc did not improve from 0.13636\n",
      "Epoch 9/10\n",
      "784/784 [==============================] - 80s 102ms/step - loss: 2.7036 - acc: 0.1582 - val_loss: 2.9601 - val_acc: 0.1591\n",
      "\n",
      "Epoch 00009: val_acc improved from 0.13636 to 0.15909, saving model to C:\\1Christoph\\Uni\\TU\\2. Semester\\Recommender Systems Team Project\\YYY\\GRU Best Model\\2Model09-2.96-0.16.h5\n",
      "Epoch 10/10\n",
      "784/784 [==============================] - 78s 100ms/step - loss: 2.6058 - acc: 0.1760 - val_loss: 3.0345 - val_acc: 0.1364\n",
      "\n",
      "Epoch 00010: val_acc did not improve from 0.15909\n"
     ]
    }
   ],
   "source": [
    "np.random.seed(123)\n",
    "\n",
    "NAME = \"RECSYS-GRU-{}\".format(int(time.time()))\n",
    "#tensorboard = TensorBoard(log_dir='logs/{}'.format(NAME))\n",
    "\n",
    "print(NAME)\n",
    "            \n",
    "model = Sequential()\n",
    "\n",
    "# Input Layer\n",
    "model.add(GRU(256, input_shape = X_train.shape[1:]))\n",
    "model.add(Activation(\"relu\"))\n",
    "\n",
    "# GRU Layers\n",
    "\n",
    "model.add(GRU(256)\n",
    "model.add(Activation(\"relu\"))\n",
    "model.add(MaxPooling2D(pool_size=(2,2)))\n",
    "model.add(Dropout(0.3))\n",
    "\n",
    "\n",
    "model.add(GRU(256)\n",
    "model.add(Activation(\"relu\"))\n",
    "model.add(MaxPooling2D(pool_size=(2,2)))\n",
    "model.add(Dropout(0.3))\n",
    "\n",
    "\n",
    "model.add(Flatten())\n",
    "            \n",
    "# Dense Layers\n",
    "\n",
    "model.add(Dense(128))\n",
    "model.add(Activation(\"relu\"))\n",
    "model.add(Dropout(0.3))\n",
    "\n",
    "#Output Layer\n",
    "model.add(Dense(157))\n",
    "model.add(Activation(\"sigmoid\"))\n",
    "#model.add(Activation(\"softmax\"))\n",
    "\n",
    "model.compile(loss=\"mean_squared_error\",\n",
    "              optimizer=\"adam\",\n",
    "#              optimizer=\"sgd\",\n",
    "              metrics=[\"accuracy\"])\n",
    "\n",
    "checkpointer = ModelCheckpoint(filepath='C:\\\\1Christoph\\\\Uni\\\\TU\\\\2. Semester\\\\Recommender Systems Team Project\\\\YYY\\\\GRU Best Model\\\\2Model{epoch:02d}-{val_loss:.2f}-{val_acc:.2f}.h5',monitor='val_acc', verbose=1, save_best_only=True)\n",
    "\n",
    "model_fit = model.fit(X_train, y_train, batch_size=batch_size, epochs=epochs, validation_split=val_split, callbacks=[checkpointer])\n",
    "\n",
    "model.save(f\"RECSYS-CNN-2-Epochs-adam-GRU-{int(time.time())}.h5\")"
   ]
  },
  {
   "cell_type": "code",
   "execution_count": 24,
   "metadata": {},
   "outputs": [],
   "source": [
    "model2 = load_model('GRU Best Model\\\\2Model09-2.96-0.16.h5')"
   ]
  },
  {
   "cell_type": "code",
   "execution_count": 25,
   "metadata": {},
   "outputs": [
    {
     "data": {
      "text/plain": [
       "0.15384615384615385"
      ]
     },
     "execution_count": 25,
     "metadata": {},
     "output_type": "execute_result"
    }
   ],
   "source": [
    "predictions = model2.predict_classes(X_val)\n",
    "accuracy_score(y_val, predictions)"
   ]
  },
  {
   "cell_type": "markdown",
   "metadata": {},
   "source": [
    "### Plotting the Training Curve"
   ]
  },
  {
   "cell_type": "code",
   "execution_count": 26,
   "metadata": {},
   "outputs": [
    {
     "data": {
      "text/plain": [
       "dict_keys(['val_loss', 'val_acc', 'loss', 'acc'])"
      ]
     },
     "execution_count": 26,
     "metadata": {},
     "output_type": "execute_result"
    }
   ],
   "source": [
    "hist = model_fit.history\n",
    "hist.keys()"
   ]
  },
  {
   "cell_type": "code",
   "execution_count": 27,
   "metadata": {},
   "outputs": [
    {
     "data": {
      "text/plain": [
       "<matplotlib.legend.Legend at 0x1e4c21c3630>"
      ]
     },
     "execution_count": 27,
     "metadata": {},
     "output_type": "execute_result"
    },
    {
     "data": {
      "image/png": "[encoded data removed]",
      "text/plain": [
       "<Figure size 720x432 with 1 Axes>"
      ]
     },
     "metadata": {
      "needs_background": "light"
     },
     "output_type": "display_data"
    }
   ],
   "source": [
    "%matplotlib inline \n",
    "\n",
    "colors = {'loss':'r', 'acc':'b', 'val_loss':'m', 'val_acc':'g'}\n",
    "plt.figure(figsize=(10,6))\n",
    "plt.title(\"Training Curve\") \n",
    "plt.xlabel(\"Epoch\")\n",
    "\n",
    "for measure in hist.keys():\n",
    "    color = colors[measure]\n",
    "    plt.plot(range(1,epochs+1), hist[measure], color + '-', label=measure)  # use last 2 values to draw line\n",
    "\n",
    "plt.legend(loc='upper left', scatterpoints = 1, frameon=False)"
   ]
  }
 ],
 "metadata": {
  "kernelspec": {
   "display_name": "Python 3",
   "language": "python",
   "name": "python3"
  },
  "language_info": {
   "codemirror_mode": {
    "name": "ipython",
    "version": 3
   },
   "file_extension": ".py",
   "mimetype": "text/x-python",
   "name": "python",
   "nbconvert_exporter": "python",
   "pygments_lexer": "ipython3",
   "version": "3.6.8"
  }
 },
 "nbformat": 4,
 "nbformat_minor": 2
}
