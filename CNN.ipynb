{
 "cells": [
  {
   "cell_type": "code",
   "execution_count": 1,
   "metadata": {},
   "outputs": [
    {
     "name": "stderr",
     "output_type": "stream",
     "text": [
      "WARNING (theano.configdefaults): g++ not available, if using conda: `conda install m2w64-toolchain`\n",
      "c:\\users\\cwimm\\appdata\\local\\programs\\python\\python36\\lib\\site-packages\\theano\\configdefaults.py:560: UserWarning: DeprecationWarning: there is no c++ compiler.This is deprecated and with Theano 0.11 a c++ compiler will be mandatory\n",
      "  warnings.warn(\"DeprecationWarning: there is no c++ compiler.\"\n",
      "WARNING (theano.configdefaults): g++ not detected ! Theano will be unable to execute optimized C-implementations (for both CPU and GPU) and will default to Python implementations. Performance will be severely degraded. To remove this warning, set Theano flags cxx to an empty string.\n",
      "WARNING (theano.tensor.blas): Using NumPy C-API based implementation for BLAS functions.\n",
      "Using TensorFlow backend.\n"
     ]
    }
   ],
   "source": [
    "import os\n",
    "\n",
    "# if you want to use the GPU\n",
    "#device = 'gpu'\n",
    "#os.environ['THEANO_FLAGS']='mode=FAST_RUN,device=' + device + ',floatX=float32'\n",
    "\n",
    "import argparse\n",
    "import csv\n",
    "import datetime\n",
    "import glob\n",
    "import math\n",
    "import sys\n",
    "import time\n",
    "import cv2\n",
    "import random\n",
    "import pickle\n",
    "import itertools\n",
    "\n",
    "import matplotlib.pyplot as plt\n",
    "\n",
    "import numpy as np\n",
    "import sklearn.metrics as metrics\n",
    "from sklearn.metrics import accuracy_score\n",
    "\n",
    "from PIL import Image\n",
    "#import theano\n",
    "from theano import config\n",
    "\n",
    "import keras\n",
    "from keras.models import Sequential, load_model\n",
    "from keras.layers import Conv2D, MaxPooling2D, Dense, Dropout, Activation, Flatten\n",
    "from keras.layers.normalization import BatchNormalization\n",
    "from keras.preprocessing.sequence import pad_sequences\n",
    "from keras.callbacks import ModelCheckpoint\n",
    "from keras import backend as K\n",
    "from keras.models import load_model\n",
    "import h5py\n",
    "\n",
    "from IPython.display import display\n",
    "\n",
    "\n",
    "# %% Imports\n",
    "from pathlib import Path\n",
    "import sys\n",
    "root_dir = Path().resolve()\n",
    "sys.path.append(str(root_dir / 'src'))\n",
    "\n",
    "from recsys_common import *\n",
    "\n",
    "np.random.seed(123) "
   ]
  },
  {
   "cell_type": "markdown",
   "metadata": {},
   "source": [
    "## Load the Data"
   ]
  },
  {
   "cell_type": "code",
   "execution_count": 19,
   "metadata": {},
   "outputs": [],
   "source": [
    "X_train = pickle.load(open(\"X_train\", \"rb\"))\n",
    "y_train = pickle.load(open(\"y_train\", \"rb\"))\n",
    "\n",
    "X_val = pickle.load(open(\"X_val\", \"rb\"))\n",
    "y_val = pickle.load(open(\"y_val.pickle\", \"rb\"))"
   ]
  },
  {
   "cell_type": "markdown",
   "metadata": {},
   "source": [
    "## Padding"
   ]
  },
  {
   "cell_type": "code",
   "execution_count": null,
   "metadata": {},
   "outputs": [],
   "source": [
    "# pad the sequences with zeros \n",
    "# padding parameter is set to 'post' => 0's are appended to end of sequences\n",
    "\n",
    "X_train = pad_sequences(X_train, maxlen = maxlen, padding = 'post')\n",
    "X_val = pad_sequences(X_val, maxlen = maxlen, padding = 'post')\n",
    "X_train = X_train.reshape(X_train.shape + (1,))\n",
    "X_val = X_val.reshape(X_val.shape + (1,))"
   ]
  },
  {
   "cell_type": "markdown",
   "metadata": {},
   "source": [
    "## Normalization"
   ]
  },
  {
   "cell_type": "code",
   "execution_count": 20,
   "metadata": {},
   "outputs": [],
   "source": [
    "X_train = keras.utils.normalize(X_train, axis=1)\n",
    "X_val = keras.utils.normalize(X_val, axis=1)"
   ]
  },
  {
   "cell_type": "markdown",
   "metadata": {},
   "source": [
    "## Creating CNN Models in Keras"
   ]
  },
  {
   "cell_type": "code",
   "execution_count": 8,
   "metadata": {},
   "outputs": [],
   "source": [
    "epochs = 10\n",
    "batch_size = 16\n",
    "val_split = 0.20"
   ]
  },
  {
   "cell_type": "code",
   "execution_count": 9,
   "metadata": {},
   "outputs": [
    {
     "name": "stdout",
     "output_type": "stream",
     "text": [
      "RECSYS-CNN-1563099147\n",
      "Train on 784 samples, validate on 88 samples\n",
      "Epoch 1/10\n",
      "784/784 [==============================] - 68s 86ms/step - loss: 3.3406 - acc: 0.0599 - val_loss: 3.2777 - val_acc: 0.0682\n",
      "\n",
      "Epoch 00001: val_acc improved from -inf to 0.06818, saving model to C:\\1Christoph\\Uni\\TU\\2. Semester\\Recommender Systems Team Project\\YYY\\CNN Best Model\\2Model01-3.28-0.07.h5\n",
      "Epoch 2/10\n",
      "784/784 [==============================] - 67s 85ms/step - loss: 3.1795 - acc: 0.0829 - val_loss: 3.1052 - val_acc: 0.0795\n",
      "\n",
      "Epoch 00002: val_acc improved from 0.06818 to 0.07955, saving model to C:\\1Christoph\\Uni\\TU\\2. Semester\\Recommender Systems Team Project\\YYY\\CNN Best Model\\2Model02-3.11-0.08.h5\n",
      "Epoch 3/10\n",
      "784/784 [==============================] - 67s 85ms/step - loss: 3.0837 - acc: 0.0880 - val_loss: 3.0035 - val_acc: 0.0909\n",
      "\n",
      "Epoch 00003: val_acc improved from 0.07955 to 0.09091, saving model to C:\\1Christoph\\Uni\\TU\\2. Semester\\Recommender Systems Team Project\\YYY\\CNN Best Model\\2Model03-3.00-0.09.h5\n",
      "Epoch 4/10\n",
      "784/784 [==============================] - 65s 83ms/step - loss: 2.9681 - acc: 0.1186 - val_loss: 2.9223 - val_acc: 0.1364\n",
      "\n",
      "Epoch 00004: val_acc improved from 0.09091 to 0.13636, saving model to C:\\1Christoph\\Uni\\TU\\2. Semester\\Recommender Systems Team Project\\YYY\\CNN Best Model\\2Model04-2.92-0.14.h5\n",
      "Epoch 5/10\n",
      "784/784 [==============================] - 69s 88ms/step - loss: 2.7884 - acc: 0.1696 - val_loss: 2.7649 - val_acc: 0.1364\n",
      "\n",
      "Epoch 00005: val_acc did not improve from 0.13636\n",
      "Epoch 6/10\n",
      "784/784 [==============================] - 67s 85ms/step - loss: 2.5236 - acc: 0.2436 - val_loss: 2.7756 - val_acc: 0.1932\n",
      "\n",
      "Epoch 00006: val_acc improved from 0.13636 to 0.19318, saving model to C:\\1Christoph\\Uni\\TU\\2. Semester\\Recommender Systems Team Project\\YYY\\CNN Best Model\\2Model06-2.78-0.19.h5\n",
      "Epoch 7/10\n",
      "784/784 [==============================] - 67s 85ms/step - loss: 2.3838 - acc: 0.2691 - val_loss: 2.5614 - val_acc: 0.1932\n",
      "\n",
      "Epoch 00007: val_acc did not improve from 0.19318\n",
      "Epoch 8/10\n",
      "784/784 [==============================] - 65s 83ms/step - loss: 2.1502 - acc: 0.3444 - val_loss: 2.5327 - val_acc: 0.2955\n",
      "\n",
      "Epoch 00008: val_acc improved from 0.19318 to 0.29545, saving model to C:\\1Christoph\\Uni\\TU\\2. Semester\\Recommender Systems Team Project\\YYY\\CNN Best Model\\2Model08-2.53-0.30.h5\n",
      "Epoch 9/10\n",
      "784/784 [==============================] - 65s 83ms/step - loss: 1.9416 - acc: 0.3648 - val_loss: 2.5579 - val_acc: 0.2386\n",
      "\n",
      "Epoch 00009: val_acc did not improve from 0.29545\n",
      "Epoch 10/10\n",
      "784/784 [==============================] - 65s 83ms/step - loss: 1.7260 - acc: 0.4809 - val_loss: 2.4990 - val_acc: 0.2500\n",
      "\n",
      "Epoch 00010: val_acc did not improve from 0.29545\n"
     ]
    }
   ],
   "source": [
    "np.random.seed(123)\n",
    "\n",
    "NAME = \"RECSYS-CNN-{}\".format(int(time.time()))\n",
    "#tensorboard = TensorBoard(log_dir='logs/{}'.format(NAME))\n",
    "\n",
    "print(NAME)\n",
    "            \n",
    "model = Sequential()\n",
    "\n",
    "# Input Layer\n",
    "model.add(Conv2D(32, (3,3), input_shape = X_train.shape[1:]))\n",
    "model.add(Activation(\"relu\"))\n",
    "model.add(MaxPooling2D(pool_size=(2,2)))\n",
    "            \n",
    "# Conv. Layers\n",
    "\n",
    "model.add(Conv2D(64, (3,3)))\n",
    "model.add(Activation(\"relu\"))\n",
    "model.add(MaxPooling2D(pool_size=(2,2)))\n",
    "model.add(Dropout(0.3))\n",
    "\n",
    "model.add(Conv2D(64, (3,3)))\n",
    "model.add(Activation(\"relu\"))\n",
    "model.add(MaxPooling2D(pool_size=(2,2)))\n",
    "model.add(Dropout(0.3))\n",
    "\n",
    "model.add(Flatten())\n",
    "            \n",
    "# Dense Layers\n",
    "model.add(Dense(128))\n",
    "model.add(Activation(\"relu\"))\n",
    "model.add(Dropout(0.3))\n",
    "\n",
    "#Output Layer\n",
    "model.add(Dense(157))\n",
    "model.add(Activation(\"softmax\"))\n",
    "\n",
    "model.compile(loss=\"mean_squared_error\",\n",
    "              optimizer=\"adam\",\n",
    "              metrics=[\"accuracy\"])\n",
    "\n",
    "checkpointer = ModelCheckpoint(filepath='C:\\\\1Christoph\\\\Uni\\\\TU\\\\2. Semester\\\\Recommender Systems Team Project\\\\YYY\\\\CNN Best Model\\\\2Model{epoch:02d}-{val_loss:.2f}-{val_acc:.2f}.h5',monitor='val_acc', verbose=1, save_best_only=True)\n",
    "            # fits the model on batches with real-time data augmentation:\n",
    "model_fit = model.fit(X_train, y_train, batch_size=batch_size, epochs=epochs, validation_split=val_split, callbacks=[checkpointer])\n",
    "\n",
    "model.save(f\"RECSYS-CNN-2-Epochs-adam-CNN-{int(time.time())}.h5\")"
   ]
  },
  {
   "cell_type": "code",
   "execution_count": 10,
   "metadata": {},
   "outputs": [],
   "source": [
    "model1 = load_model('CNN Best Model\\\\2Model08-2.53-0.30.h5')"
   ]
  },
  {
   "cell_type": "code",
   "execution_count": 11,
   "metadata": {},
   "outputs": [
    {
     "data": {
      "text/plain": [
       "0.2967032967032967"
      ]
     },
     "execution_count": 11,
     "metadata": {},
     "output_type": "execute_result"
    }
   ],
   "source": [
    "predictions = model1.predict_classes(X_val)\n",
    "accuracy_score(y_val, predictions)"
   ]
  },
  {
   "cell_type": "markdown",
   "metadata": {},
   "source": [
    "### Plotting the Training Curve"
   ]
  },
  {
   "cell_type": "code",
   "execution_count": 12,
   "metadata": {},
   "outputs": [
    {
     "data": {
      "text/plain": [
       "dict_keys(['val_loss', 'val_acc', 'loss', 'acc'])"
      ]
     },
     "execution_count": 12,
     "metadata": {},
     "output_type": "execute_result"
    }
   ],
   "source": [
    "hist = model_fit.history\n",
    "hist.keys()"
   ]
  },
  {
   "cell_type": "code",
   "execution_count": 13,
   "metadata": {},
   "outputs": [
    {
     "data": {
      "text/plain": [
       "<matplotlib.legend.Legend at 0x11a55ce1400>"
      ]
     },
     "execution_count": 13,
     "metadata": {},
     "output_type": "execute_result"
    },
    {
     "data": {
      "image/png": "[encoded data removed]",
      "text/plain": [
       "<Figure size 720x432 with 1 Axes>"
      ]
     },
     "metadata": {
      "needs_background": "light"
     },
     "output_type": "display_data"
    }
   ],
   "source": [
    "%matplotlib inline \n",
    "\n",
    "colors = {'loss':'r', 'acc':'b', 'val_loss':'m', 'val_acc':'g'}\n",
    "plt.figure(figsize=(10,6))\n",
    "plt.title(\"Training Curve\") \n",
    "plt.xlabel(\"Epoch\")\n",
    "\n",
    "for measure in hist.keys():\n",
    "    color = colors[measure]\n",
    "    plt.plot(range(1,epochs+1), hist[measure], color + '-', label=measure)  # use last 2 values to draw line\n",
    "\n",
    "plt.legend(loc='upper left', scatterpoints = 1, frameon=False)"
   ]
  },
  {
   "cell_type": "markdown",
   "metadata": {},
   "source": [
    "### Model 2"
   ]
  },
  {
   "cell_type": "code",
   "execution_count": null,
   "metadata": {},
   "outputs": [],
   "source": [
    "epochs = 10\n",
    "batch_size = 16\n",
    "val_split = 0.2"
   ]
  },
  {
   "cell_type": "code",
   "execution_count": 14,
   "metadata": {},
   "outputs": [
    {
     "name": "stdout",
     "output_type": "stream",
     "text": [
      "RECSYS-CNN-1563101803\n",
      "Train on 784 samples, validate on 88 samples\n",
      "Epoch 1/10\n",
      "784/784 [==============================] - 69s 88ms/step - loss: 3.4008 - acc: 0.0357 - val_loss: 3.3972 - val_acc: 0.0568\n",
      "\n",
      "Epoch 00001: val_acc improved from -inf to 0.05682, saving model to C:\\1Christoph\\Uni\\TU\\2. Semester\\Recommender Systems Team Project\\YYY\\CNN Best Model\\2Model01-3.40-0.06.h5\n",
      "Epoch 2/10\n",
      "784/784 [==============================] - 66s 84ms/step - loss: 3.3930 - acc: 0.0459 - val_loss: 3.3916 - val_acc: 0.0568\n",
      "\n",
      "Epoch 00002: val_acc did not improve from 0.05682\n",
      "Epoch 3/10\n",
      "784/784 [==============================] - 66s 84ms/step - loss: 3.3852 - acc: 0.0434 - val_loss: 3.3856 - val_acc: 0.0568\n",
      "\n",
      "Epoch 00003: val_acc did not improve from 0.05682\n",
      "Epoch 4/10\n",
      "784/784 [==============================] - 62s 79ms/step - loss: 3.3789 - acc: 0.0485 - val_loss: 3.3809 - val_acc: 0.0795\n",
      "\n",
      "Epoch 00004: val_acc improved from 0.05682 to 0.07955, saving model to C:\\1Christoph\\Uni\\TU\\2. Semester\\Recommender Systems Team Project\\YYY\\CNN Best Model\\2Model04-3.38-0.08.h5\n",
      "Epoch 5/10\n",
      "784/784 [==============================] - 71s 91ms/step - loss: 3.3670 - acc: 0.0625 - val_loss: 3.3687 - val_acc: 0.0568\n",
      "\n",
      "Epoch 00005: val_acc did not improve from 0.07955\n",
      "Epoch 6/10\n",
      "784/784 [==============================] - 65s 82ms/step - loss: 3.3535 - acc: 0.0587 - val_loss: 3.3649 - val_acc: 0.0682\n",
      "\n",
      "Epoch 00006: val_acc did not improve from 0.07955\n",
      "Epoch 7/10\n",
      "784/784 [==============================] - 62s 79ms/step - loss: 3.3369 - acc: 0.0714 - val_loss: 3.3453 - val_acc: 0.0682\n",
      "\n",
      "Epoch 00007: val_acc did not improve from 0.07955\n",
      "Epoch 8/10\n",
      "784/784 [==============================] - 62s 79ms/step - loss: 3.3148 - acc: 0.0829 - val_loss: 3.3426 - val_acc: 0.0682\n",
      "\n",
      "Epoch 00008: val_acc did not improve from 0.07955\n",
      "Epoch 9/10\n",
      "784/784 [==============================] - 62s 79ms/step - loss: 3.3001 - acc: 0.0791 - val_loss: 3.3035 - val_acc: 0.0795\n",
      "\n",
      "Epoch 00009: val_acc did not improve from 0.07955\n",
      "Epoch 10/10\n",
      "784/784 [==============================] - 62s 79ms/step - loss: 3.2535 - acc: 0.0918 - val_loss: 3.3076 - val_acc: 0.1023\n",
      "\n",
      "Epoch 00010: val_acc improved from 0.07955 to 0.10227, saving model to C:\\1Christoph\\Uni\\TU\\2. Semester\\Recommender Systems Team Project\\YYY\\CNN Best Model\\2Model10-3.31-0.10.h5\n"
     ]
    }
   ],
   "source": [
    "np.random.seed(123)\n",
    "\n",
    "NAME = \"RECSYS-CNN-{}\".format(int(time.time()))\n",
    "#tensorboard = TensorBoard(log_dir='logs/{}'.format(NAME))\n",
    "\n",
    "print(NAME)\n",
    "            \n",
    "model = Sequential()\n",
    "\n",
    "# Input Layer\n",
    "model.add(Conv2D(32, (3,3), input_shape = X_train.shape[1:]))\n",
    "model.add(Activation(\"relu\"))\n",
    "model.add(MaxPooling2D(pool_size=(2,2)))\n",
    "            \n",
    "# Conv. Layers\n",
    "\n",
    "model.add(Conv2D(64, (3,3)))\n",
    "model.add(Activation(\"relu\"))\n",
    "model.add(MaxPooling2D(pool_size=(2,2)))\n",
    "model.add(Dropout(0.3))\n",
    "\n",
    "model.add(Flatten())\n",
    "            \n",
    "# Dense Layers\n",
    "model.add(Dense(128))\n",
    "model.add(Activation(\"relu\"))\n",
    "model.add(Dropout(0.3))\n",
    "\n",
    "#Output Layer\n",
    "model.add(Dense(157))\n",
    "model.add(Activation(\"softmax\"))\n",
    "\n",
    "model.compile(loss=\"mean_squared_error\",\n",
    "              optimizer=\"adam\",\n",
    "              metrics=[\"accuracy\"])\n",
    "\n",
    "checkpointer = ModelCheckpoint(filepath='C:\\\\1Christoph\\\\Uni\\\\TU\\\\2. Semester\\\\Recommender Systems Team Project\\\\YYY\\\\CNN Best Model\\\\2Model{epoch:02d}-{val_loss:.2f}-{val_acc:.2f}.h5',monitor='val_acc', verbose=1, save_best_only=True)\n",
    "            # fits the model on batches with real-time data augmentation:\n",
    "model_fit = model.fit(X_train, y_train, batch_size=batch_size, epochs=epochs, validation_split=val_split, callbacks=[checkpointer])\n",
    "\n",
    "model.save(f\"RECSYS-CNN-1-Epochs-adam-CNN-{int(time.time())}.h5\")"
   ]
  },
  {
   "cell_type": "code",
   "execution_count": 15,
   "metadata": {},
   "outputs": [],
   "source": [
    "model2 = load_model('CNN Best Model\\\\2Model10-3.31-0.10.h5')"
   ]
  },
  {
   "cell_type": "code",
   "execution_count": 16,
   "metadata": {},
   "outputs": [
    {
     "data": {
      "text/plain": [
       "0.10989010989010989"
      ]
     },
     "execution_count": 16,
     "metadata": {},
     "output_type": "execute_result"
    }
   ],
   "source": [
    "predictions = model2.predict_classes(X_val)\n",
    "accuracy_score(y_val, predictions)"
   ]
  },
  {
   "cell_type": "code",
   "execution_count": null,
   "metadata": {},
   "outputs": [],
   "source": [
    "### Plotting the Training Curve"
   ]
  },
  {
   "cell_type": "code",
   "execution_count": 17,
   "metadata": {},
   "outputs": [
    {
     "data": {
      "text/plain": [
       "dict_keys(['val_loss', 'val_acc', 'loss', 'acc'])"
      ]
     },
     "execution_count": 17,
     "metadata": {},
     "output_type": "execute_result"
    }
   ],
   "source": [
    "hist = model_fit.history\n",
    "hist.keys()"
   ]
  },
  {
   "cell_type": "code",
   "execution_count": 18,
   "metadata": {},
   "outputs": [
    {
     "data": {
      "text/plain": [
       "<matplotlib.legend.Legend at 0x11a69818e80>"
      ]
     },
     "execution_count": 18,
     "metadata": {},
     "output_type": "execute_result"
    },
    {
     "data": {
      "image/png": "[encoded data removed]",
      "text/plain": [
       "<Figure size 720x432 with 1 Axes>"
      ]
     },
     "metadata": {
      "needs_background": "light"
     },
     "output_type": "display_data"
    }
   ],
   "source": [
    "%matplotlib inline \n",
    "\n",
    "colors = {'loss':'r', 'acc':'b', 'val_loss':'m', 'val_acc':'g'}\n",
    "plt.figure(figsize=(10,6))\n",
    "plt.title(\"Training Curve\") \n",
    "plt.xlabel(\"Epoch\")\n",
    "\n",
    "for measure in hist.keys():\n",
    "    color = colors[measure]\n",
    "    plt.plot(range(1,epochs+1), hist[measure], color + '-', label=measure)  # use last 2 values to draw line\n",
    "\n",
    "plt.legend(loc='upper left', scatterpoints = 1, frameon=False)"
   ]
  }
 ],
 "metadata": {
  "kernelspec": {
   "display_name": "Python 3",
   "language": "python",
   "name": "python3"
  },
  "language_info": {
   "codemirror_mode": {
    "name": "ipython",
    "version": 3
   },
   "file_extension": ".py",
   "mimetype": "text/x-python",
   "name": "python",
   "nbconvert_exporter": "python",
   "pygments_lexer": "ipython3",
   "version": "3.6.8"
  }
 },
 "nbformat": 4,
 "nbformat_minor": 2
}
