{
 "cells": [
  {
   "cell_type": "code",
   "execution_count": null,
   "metadata": {},
   "outputs": [],
   "source": [
    "import pandas as pd\n",
    "import numpy as np\n",
    "\n",
    "# %% Imports\n",
    "from pathlib import Path\n",
    "import sys\n",
    "root_dir = Path().resolve()\n",
    "sys.path.append(str(root_dir / 'src'))\n",
    "\n",
    "from recsys_common import *\n"
   ]
  },
  {
   "cell_type": "code",
   "execution_count": null,
   "metadata": {},
   "outputs": [],
   "source": [
    "meta=get_metadata()"
   ]
  },
  {
   "cell_type": "code",
   "execution_count": null,
   "metadata": {},
   "outputs": [],
   "source": [
    "sessions=get_sessions(True,.05,True,0.25)\n",
    "sessions['impressions']=sessions['impressions'].str.split('\\\\|')\n",
    "sessions['prices']=sessions['prices'].str.split('\\\\|')\n",
    "print(sessions.dtypes)\n",
    "sessions.head()"
   ]
  },
  {
   "cell_type": "markdown",
   "metadata": {},
   "source": [
    "# Get Splits"
   ]
  },
  {
   "cell_type": "code",
   "execution_count": null,
   "metadata": {},
   "outputs": [],
   "source": [
    "test = sessions.loc[sessions.is_train==False].reset_index(drop=True)\n",
    "# train = sessions.loc[(sessions.is_train==True)]\n",
    "train = sessions.loc[(sessions.is_train==True) & (sessions.is_validation==False)].reset_index(drop=True)\n",
    "dev = sessions.loc[(sessions.is_train==True) & (sessions.is_validation==True)].reset_index(drop=True)\n",
    "\n",
    "print('test',test.shape)\n",
    "print('train',train.shape)\n",
    "print('dev',dev.shape)\n",
    "\n",
    "sessions.loc[(sessions.is_validation==True)].reset_index(drop=True)"
   ]
  },
  {
   "cell_type": "markdown",
   "metadata": {},
   "source": [
    "# Check number of test clickouts without a reference"
   ]
  },
  {
   "cell_type": "code",
   "execution_count": null,
   "metadata": {},
   "outputs": [],
   "source": [
    "nclickouts_nan = test.loc[(test.action_type=='clickout item') & (test.reference.isna()),'reference'].shape[0]\n",
    "nclickouts = test.loc[(test.action_type=='clickout item'),'reference'].shape[0]\n",
    "print('test clickouts without reference, total, and frac:', [nclickouts_nan,nclickouts,nclickouts_nan/nclickouts])"
   ]
  },
  {
   "cell_type": "markdown",
   "metadata": {},
   "source": [
    "# Get Fake Test Set"
   ]
  },
  {
   "cell_type": "code",
   "execution_count": null,
   "metadata": {},
   "outputs": [],
   "source": [
    "dev_test,gt = process_validation(dev, frac_nan=0.488, seed=1234)\n",
    "dev_test.head()\n",
    "gt.head()"
   ]
  },
  {
   "cell_type": "markdown",
   "metadata": {},
   "source": [
    "# Munge for NB"
   ]
  },
  {
   "cell_type": "code",
   "execution_count": null,
   "metadata": {},
   "outputs": [],
   "source": [
    "colnames=dev_test.columns\n",
    "colnames"
   ]
  },
  {
   "cell_type": "markdown",
   "metadata": {},
   "source": [
    "Filter for numeric and NaN references and drop columns 'platform','city','device','current_filters','fake_split_train','is_train'"
   ]
  },
  {
   "cell_type": "code",
   "execution_count": null,
   "metadata": {},
   "outputs": [],
   "source": []
  },
  {
   "cell_type": "code",
   "execution_count": null,
   "metadata": {},
   "outputs": [],
   "source": []
  },
  {
   "cell_type": "code",
   "execution_count": null,
   "metadata": {},
   "outputs": [],
   "source": [
    "dev_test_filt=dev_test.loc[(dev_test.reference.isnull()) | (dev_test.reference.str.contains('^[0-9]*$'))].drop(['platform','city','device','current_filters','is_validation','is_train'],axis=1).copy()\n",
    "print(dev_test_filt.shape)\n",
    "dev_test_filt"
   ]
  },
  {
   "cell_type": "code",
   "execution_count": null,
   "metadata": {},
   "outputs": [],
   "source": [
    "# collect last 5 actions for clickouts step >=6\n",
    "dev_test_filt['len_session']=dev_test_filt.groupby('session_id')['step'].transform('count')\n",
    "indx_stepbig_nan=dev_test_filt.loc[(dev_test_filt.action_type=='clickout item') & (dev_test_filt.reference.isnull()) & (dev_test_filt.len_session>=6)].index.astype(int)\n",
    "# indx_stepbig_nan=dev_test_filt.loc[(dev_test_filt.action_type=='clickout item') & (dev_test_filt.reference.isnull()) & (dev_test_filt.step>=6)].index.astype(int)\n",
    "print(len(indx_stepbig_nan)*5)\n",
    "indx_stepbig_nan_range = ([])\n",
    "step_num=([])\n",
    "for i in indx_stepbig_nan:\n",
    "#     print(np.arange(i-5,i))\n",
    "    indx_stepbig_nan_range=np.concatenate((indx_stepbig_nan_range,np.arange(i-5,i)))\n",
    "    step_num = np.concatenate((step_num,np.arange(1,6)))\n",
    "    \n",
    "print([len(indx_stepbig_nan_range),len(indx_stepbig_nan_range)==len(step_num)])\n",
    "len(step_num)\n",
    "\n",
    "# temp2=dev_test_filt.loc[dev_test_filt.index.isin(indx_stepbig_nan_range.astype(np.int64))].copy()\n",
    "# temp2\n"
   ]
  },
  {
   "cell_type": "code",
   "execution_count": null,
   "metadata": {},
   "outputs": [],
   "source": [
    "grouped=dev_test_filt.groupby('session_id')\n",
    "grouped.filter(lambda x: x[(dev_test_filt.action_type=='clickout item') & (dev_test_filt.reference.isnull())])"
   ]
  },
  {
   "cell_type": "code",
   "execution_count": null,
   "metadata": {},
   "outputs": [],
   "source": [
    "has_clickout_nan = dev_test_filt.loc[(dev_test_filt.action_type=='clickout item') & (dev_test_filt.reference.isnull()),['session_id','step']]\n",
    "has_clickout_nan\n",
    "# dev_test_filt.loc[(dev_test_filt.session_id.isin(has_clickout_nan.session_id)) & (dev_test_filt.step<=has_clickout_nan.step)]\n",
    "\n",
    "dev_test_filt[lambda x: x['session_id'].isin(has_clickout_nan.session_id) & x['step']<=has_clickout_nan.step]"
   ]
  },
  {
   "cell_type": "code",
   "execution_count": null,
   "metadata": {},
   "outputs": [],
   "source": [
    "(train.loc[~train.impressions.isnull(),'impressions'].apply(lambda x: len(x)))"
   ]
  }
 ],
 "metadata": {
  "kernelspec": {
   "display_name": "Python 3",
   "language": "python",
   "name": "python3"
  },
  "language_info": {
   "codemirror_mode": {
    "name": "ipython",
    "version": 3
   },
   "file_extension": ".py",
   "mimetype": "text/x-python",
   "name": "python",
   "nbconvert_exporter": "python",
   "pygments_lexer": "ipython3",
   "version": "3.7.1"
  }
 },
 "nbformat": 4,
 "nbformat_minor": 2
}
