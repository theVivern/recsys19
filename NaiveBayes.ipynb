{
 "cells": [
  {
   "cell_type": "code",
   "execution_count": 1,
   "metadata": {},
   "outputs": [],
   "source": [
    "import pandas as pd\n",
    "import numpy as np\n",
    "import gc\n",
    "\n",
    "from sklearn.naive_bayes import *\n",
    "from sklearn import preprocessing\n",
    "\n",
    "# %% Imports\n",
    "from pathlib import Path\n",
    "import sys\n",
    "root_dir = Path().resolve()\n",
    "sys.path.append(str(root_dir / 'src'))\n",
    "\n",
    "from recsys_common import *\n",
    "from recsys_naive_bayes_processing import *\n"
   ]
  },
  {
   "cell_type": "code",
   "execution_count": 2,
   "metadata": {},
   "outputs": [],
   "source": [
    "meta=get_metadata()\n",
    "# meta.dtypes"
   ]
  },
  {
   "cell_type": "code",
   "execution_count": 3,
   "metadata": {},
   "outputs": [],
   "source": [
    "meta['item_id']=meta['item_id'].astype(str)"
   ]
  },
  {
   "cell_type": "code",
   "execution_count": 4,
   "metadata": {
    "scrolled": true
   },
   "outputs": [
    {
     "name": "stdout",
     "output_type": "stream",
     "text": [
      "(1024331, 12)\n",
      "(345497, 12)\n",
      "user_id                         object\n",
      "session_id                      object\n",
      "timestamp          datetime64[ns, UTC]\n",
      "step                             int64\n",
      "action_type                     object\n",
      "reference                       object\n",
      "platform                        object\n",
      "city                            object\n",
      "device                          object\n",
      "current_filters                 object\n",
      "impressions                     object\n",
      "prices                          object\n",
      "is_validation                     bool\n",
      "is_train                          bool\n",
      "dtype: object\n"
     ]
    }
   ],
   "source": [
    "sessions=get_sessions(True,.1,True,0.25)\n",
    "sessions['impressions']=sessions['impressions'].str.split('\\\\|')\n",
    "sessions['prices']=sessions['prices'].str.split('\\\\|')\n",
    "print(sessions.dtypes)\n",
    "# sessions.head()"
   ]
  },
  {
   "cell_type": "markdown",
   "metadata": {},
   "source": [
    "## Create impressions set\n",
    "will need this later to build a dict of cost."
   ]
  },
  {
   "cell_type": "code",
   "execution_count": 5,
   "metadata": {},
   "outputs": [
    {
     "data": {
      "text/plain": [
       "448694"
      ]
     },
     "execution_count": 5,
     "metadata": {},
     "output_type": "execute_result"
    }
   ],
   "source": [
    "l=sessions.loc[~(sessions.impressions.isnull()),'impressions'].tolist()\n",
    "\n",
    "flat_list = [item for sublist in l for item in sublist]\n",
    "set_reference=set(flat_list)\n",
    "len(set_reference)"
   ]
  },
  {
   "cell_type": "markdown",
   "metadata": {},
   "source": [
    "# Train encoders"
   ]
  },
  {
   "cell_type": "code",
   "execution_count": 6,
   "metadata": {},
   "outputs": [
    {
     "name": "stdout",
     "output_type": "stream",
     "text": [
      "['change of sort order' 'clickout item' 'filter selection'\n",
      " 'interaction item deals' 'interaction item image' 'interaction item info'\n",
      " 'interaction item rating' 'search for destination' 'search for item'\n",
      " 'search for poi']\n",
      "['AA' 'AE' 'AR' 'AT' 'AU' 'BE' 'BG' 'BR' 'CA' 'CH' 'CL' 'CN' 'CO' 'CZ'\n",
      " 'DE' 'DK' 'EC' 'ES' 'FI' 'FR' 'GR' 'HK' 'HR' 'HU' 'ID' 'IE' 'IL' 'IN'\n",
      " 'IT' 'JP' 'KR' 'MX' 'MY' 'NL' 'NO' 'NZ' 'PE' 'PH' 'PL' 'PT' 'RO' 'RS'\n",
      " 'RU' 'SE' 'SG' 'SI' 'SK' 'TH' 'TR' 'TW' 'UK' 'US' 'UY' 'VN' 'ZA']\n",
      "[\"'s-Heerenberg, Netherlands\" \"'s-Hertogenbosch, Netherlands\"\n",
      " 'A Teixeira, Spain' ... 'Žarnovica, Slovakia' 'Žilina, Slovakia'\n",
      " 'Κato Platres - Pano Platres, Cyprus']\n",
      "['desktop' 'mobile' 'tablet']\n"
     ]
    }
   ],
   "source": [
    "columns_to_encode = ['action_type','platform','city','device']\n",
    "\n",
    "encoders = {}\n",
    "for col in columns_to_encode:\n",
    "    le = preprocessing.LabelEncoder()\n",
    "    encoders[col]=le.fit(sessions[col])\n",
    "    print(encoders[col].classes_)\n",
    "#     dev_wide[col]=encoders[col].transform(dev_wide[col])\n"
   ]
  },
  {
   "cell_type": "markdown",
   "metadata": {},
   "source": [
    "# Get Splits"
   ]
  },
  {
   "cell_type": "code",
   "execution_count": 7,
   "metadata": {},
   "outputs": [
    {
     "name": "stdout",
     "output_type": "stream",
     "text": [
      "test (386304, 14)\n",
      "train (1024331, 14)\n",
      "dev (345497, 14)\n"
     ]
    }
   ],
   "source": [
    "test = sessions.loc[sessions.is_train==False].reset_index(drop=True)\n",
    "# train = sessions.loc[(sessions.is_train==True)]\n",
    "train = sessions.loc[(sessions.is_train==True) & (sessions.is_validation==False)].reset_index(drop=True)\n",
    "dev = sessions.loc[(sessions.is_train==True) & (sessions.is_validation==True)].reset_index(drop=True)\n",
    "\n",
    "print('test',test.shape)\n",
    "print('train',train.shape)\n",
    "print('dev',dev.shape)\n",
    "\n",
    "del sessions"
   ]
  },
  {
   "cell_type": "code",
   "execution_count": null,
   "metadata": {},
   "outputs": [],
   "source": []
  },
  {
   "cell_type": "markdown",
   "metadata": {},
   "source": [
    "# Check number of test clickouts without a reference"
   ]
  },
  {
   "cell_type": "code",
   "execution_count": 8,
   "metadata": {},
   "outputs": [
    {
     "name": "stdout",
     "output_type": "stream",
     "text": [
      "test clickouts without reference, total, and frac: [25497, 52977, 0.4812843309360666]\n"
     ]
    }
   ],
   "source": [
    "nclickouts_nan = test.loc[(test.action_type=='clickout item') & (test.reference.isna()),'reference'].shape[0]\n",
    "nclickouts = test.loc[(test.action_type=='clickout item'),'reference'].shape[0]\n",
    "print('test clickouts without reference, total, and frac:', [nclickouts_nan,nclickouts,nclickouts_nan/nclickouts])\n",
    "del test"
   ]
  },
  {
   "cell_type": "code",
   "execution_count": null,
   "metadata": {},
   "outputs": [],
   "source": [
    "\n"
   ]
  },
  {
   "cell_type": "code",
   "execution_count": 9,
   "metadata": {},
   "outputs": [],
   "source": [
    "# frac_nan=0.488\n",
    "# seed =1234\n",
    "# dev['key'] = (dev['session_id'] + '_' + dev['step'].astype(str))\n",
    "\n",
    "# last_clickout_in_session=dev.loc[dev.action_type=='clickout item'].groupby('session_id',as_index=False)['step'].max()\n",
    "# last_clickout_in_session['key']=(last_clickout_in_session['session_id'] + '_' + last_clickout_in_session['step'].astype(str))\n",
    "# print(last_clickout_in_session.shape)\n",
    "\n",
    "# n_references=round(frac_nan*len(last_clickout_in_session))\n",
    "# print(n_references)\n",
    "# np.random.seed(seed)\n",
    "# index_sampled_clickouts=np.random.choice(last_clickout_in_session.key,n_references,replace=False)\n",
    "# print(index_sampled_clickouts.shape)\n",
    "\n",
    "# dev['target']=dev.loc[dev.key.isin(index_sampled_clickouts),'reference']\n",
    "# dev.loc[dev.key.isin(index_sampled_clickouts),'reference']=np.NaN\n",
    "\n",
    "# dev.drop('key',axis=1,inplace=True)\n",
    "\n",
    "# print(dev.shape)"
   ]
  },
  {
   "cell_type": "code",
   "execution_count": 10,
   "metadata": {},
   "outputs": [],
   "source": [
    "# # dev.loc[(dev.session_id==(last_clickout_in_session.session_id)) & (dev.step.isin(last_clickout_in_session.step))].shape\n",
    "# dev[dev.key.isin(last_clickout_in_session.key)].shape\n",
    "# np.random.choice(last_clickout_in_session.key,n_references,replace=False)"
   ]
  },
  {
   "cell_type": "code",
   "execution_count": 11,
   "metadata": {},
   "outputs": [],
   "source": [
    "# dev.loc[dev.key.isin(list(rows_to_change['key'])),'step']"
   ]
  },
  {
   "cell_type": "markdown",
   "metadata": {},
   "source": [
    "# Get Fake Test Set"
   ]
  },
  {
   "cell_type": "code",
   "execution_count": 12,
   "metadata": {},
   "outputs": [
    {
     "data": {
      "text/html": [
       "<div>\n",
       "<style scoped>\n",
       "    .dataframe tbody tr th:only-of-type {\n",
       "        vertical-align: middle;\n",
       "    }\n",
       "\n",
       "    .dataframe tbody tr th {\n",
       "        vertical-align: top;\n",
       "    }\n",
       "\n",
       "    .dataframe thead th {\n",
       "        text-align: right;\n",
       "    }\n",
       "</style>\n",
       "<table border=\"1\" class=\"dataframe\">\n",
       "  <thead>\n",
       "    <tr style=\"text-align: right;\">\n",
       "      <th></th>\n",
       "      <th>user_id</th>\n",
       "      <th>session_id</th>\n",
       "      <th>timestamp</th>\n",
       "      <th>step</th>\n",
       "      <th>action_type</th>\n",
       "      <th>reference</th>\n",
       "      <th>platform</th>\n",
       "      <th>city</th>\n",
       "      <th>device</th>\n",
       "      <th>current_filters</th>\n",
       "      <th>impressions</th>\n",
       "      <th>prices</th>\n",
       "      <th>is_validation</th>\n",
       "      <th>is_train</th>\n",
       "      <th>target</th>\n",
       "    </tr>\n",
       "  </thead>\n",
       "  <tbody>\n",
       "    <tr>\n",
       "      <th>0</th>\n",
       "      <td>0NA8E4AD2VY7</td>\n",
       "      <td>336d9a46b826f</td>\n",
       "      <td>2018-11-01 13:13:57+00:00</td>\n",
       "      <td>1</td>\n",
       "      <td>filter selection</td>\n",
       "      <td>Free WiFi (Combined)</td>\n",
       "      <td>RU</td>\n",
       "      <td>Yekaterinburg, Russia</td>\n",
       "      <td>desktop</td>\n",
       "      <td>Free WiFi (Combined)</td>\n",
       "      <td>NaN</td>\n",
       "      <td>NaN</td>\n",
       "      <td>True</td>\n",
       "      <td>True</td>\n",
       "      <td>NaN</td>\n",
       "    </tr>\n",
       "    <tr>\n",
       "      <th>1</th>\n",
       "      <td>0NA8E4AD2VY7</td>\n",
       "      <td>336d9a46b826f</td>\n",
       "      <td>2018-11-01 13:14:08+00:00</td>\n",
       "      <td>2</td>\n",
       "      <td>filter selection</td>\n",
       "      <td>Breakfast Included</td>\n",
       "      <td>RU</td>\n",
       "      <td>Yekaterinburg, Russia</td>\n",
       "      <td>desktop</td>\n",
       "      <td>Free WiFi (Combined)|Breakfast Included</td>\n",
       "      <td>NaN</td>\n",
       "      <td>NaN</td>\n",
       "      <td>True</td>\n",
       "      <td>True</td>\n",
       "      <td>NaN</td>\n",
       "    </tr>\n",
       "    <tr>\n",
       "      <th>2</th>\n",
       "      <td>0NA8E4AD2VY7</td>\n",
       "      <td>336d9a46b826f</td>\n",
       "      <td>2018-11-01 13:14:41+00:00</td>\n",
       "      <td>3</td>\n",
       "      <td>interaction item image</td>\n",
       "      <td>1045290</td>\n",
       "      <td>RU</td>\n",
       "      <td>Yekaterinburg, Russia</td>\n",
       "      <td>desktop</td>\n",
       "      <td>NaN</td>\n",
       "      <td>NaN</td>\n",
       "      <td>NaN</td>\n",
       "      <td>True</td>\n",
       "      <td>True</td>\n",
       "      <td>NaN</td>\n",
       "    </tr>\n",
       "    <tr>\n",
       "      <th>3</th>\n",
       "      <td>0NA8E4AD2VY7</td>\n",
       "      <td>336d9a46b826f</td>\n",
       "      <td>2018-11-01 13:14:41+00:00</td>\n",
       "      <td>4</td>\n",
       "      <td>interaction item image</td>\n",
       "      <td>1045290</td>\n",
       "      <td>RU</td>\n",
       "      <td>Yekaterinburg, Russia</td>\n",
       "      <td>desktop</td>\n",
       "      <td>NaN</td>\n",
       "      <td>NaN</td>\n",
       "      <td>NaN</td>\n",
       "      <td>True</td>\n",
       "      <td>True</td>\n",
       "      <td>NaN</td>\n",
       "    </tr>\n",
       "    <tr>\n",
       "      <th>4</th>\n",
       "      <td>0NA8E4AD2VY7</td>\n",
       "      <td>336d9a46b826f</td>\n",
       "      <td>2018-11-01 13:14:51+00:00</td>\n",
       "      <td>5</td>\n",
       "      <td>interaction item image</td>\n",
       "      <td>1045290</td>\n",
       "      <td>RU</td>\n",
       "      <td>Yekaterinburg, Russia</td>\n",
       "      <td>desktop</td>\n",
       "      <td>NaN</td>\n",
       "      <td>NaN</td>\n",
       "      <td>NaN</td>\n",
       "      <td>True</td>\n",
       "      <td>True</td>\n",
       "      <td>NaN</td>\n",
       "    </tr>\n",
       "  </tbody>\n",
       "</table>\n",
       "</div>"
      ],
      "text/plain": [
       "        user_id     session_id                 timestamp  step  \\\n",
       "0  0NA8E4AD2VY7  336d9a46b826f 2018-11-01 13:13:57+00:00     1   \n",
       "1  0NA8E4AD2VY7  336d9a46b826f 2018-11-01 13:14:08+00:00     2   \n",
       "2  0NA8E4AD2VY7  336d9a46b826f 2018-11-01 13:14:41+00:00     3   \n",
       "3  0NA8E4AD2VY7  336d9a46b826f 2018-11-01 13:14:41+00:00     4   \n",
       "4  0NA8E4AD2VY7  336d9a46b826f 2018-11-01 13:14:51+00:00     5   \n",
       "\n",
       "              action_type             reference platform  \\\n",
       "0        filter selection  Free WiFi (Combined)       RU   \n",
       "1        filter selection    Breakfast Included       RU   \n",
       "2  interaction item image               1045290       RU   \n",
       "3  interaction item image               1045290       RU   \n",
       "4  interaction item image               1045290       RU   \n",
       "\n",
       "                    city   device                          current_filters  \\\n",
       "0  Yekaterinburg, Russia  desktop                     Free WiFi (Combined)   \n",
       "1  Yekaterinburg, Russia  desktop  Free WiFi (Combined)|Breakfast Included   \n",
       "2  Yekaterinburg, Russia  desktop                                      NaN   \n",
       "3  Yekaterinburg, Russia  desktop                                      NaN   \n",
       "4  Yekaterinburg, Russia  desktop                                      NaN   \n",
       "\n",
       "  impressions prices  is_validation  is_train target  \n",
       "0         NaN    NaN           True      True    NaN  \n",
       "1         NaN    NaN           True      True    NaN  \n",
       "2         NaN    NaN           True      True    NaN  \n",
       "3         NaN    NaN           True      True    NaN  \n",
       "4         NaN    NaN           True      True    NaN  "
      ]
     },
     "execution_count": 12,
     "metadata": {},
     "output_type": "execute_result"
    }
   ],
   "source": [
    "dev_test = process_validation(dev, frac_nan=0.488, seed=1234)\n",
    "\n",
    "dev_test.head()\n"
   ]
  },
  {
   "cell_type": "markdown",
   "metadata": {},
   "source": [
    "# Munge for NB"
   ]
  },
  {
   "cell_type": "markdown",
   "metadata": {},
   "source": [
    "get training dat ain wide format"
   ]
  },
  {
   "cell_type": "code",
   "execution_count": 13,
   "metadata": {},
   "outputs": [],
   "source": [
    "train_wide, y = process_train_naives_bayes(data=train, metadata=meta, session_length=5, encode = True,encoders=encoders,cols_to_encode=columns_to_encode)"
   ]
  },
  {
   "cell_type": "code",
   "execution_count": 14,
   "metadata": {},
   "outputs": [
    {
     "name": "stdout",
     "output_type": "stream",
     "text": [
      "0\n",
      "0\n"
     ]
    }
   ],
   "source": [
    "train_wide_allnull=train_wide[(train_wide.iloc[:,0:9].T == 0).all()].copy()\n",
    "y_allnull = y[(train_wide.iloc[:,0:9].T == 0).all()].copy()\n",
    "\n",
    "train_wide_not_allnull=train_wide[(train_wide.iloc[:,0:9].T != 0).all()].copy()\n",
    "y_not_allnull = y[(train_wide.iloc[:,0:9].T != 0).all()].copy()\n",
    "\n",
    "print(sum(train_wide_allnull.index.values!=y_allnull.index.values))\n",
    "print(sum(train_wide_not_allnull.index.values!=y_not_allnull.index.values))"
   ]
  },
  {
   "cell_type": "code",
   "execution_count": 15,
   "metadata": {},
   "outputs": [
    {
     "data": {
      "text/plain": [
       "(38719, 801)"
      ]
     },
     "execution_count": 15,
     "metadata": {},
     "output_type": "execute_result"
    }
   ],
   "source": [
    "train_wide_not_allnull.shape"
   ]
  },
  {
   "cell_type": "markdown",
   "metadata": {},
   "source": [
    "get test data in wide format"
   ]
  },
  {
   "cell_type": "code",
   "execution_count": 16,
   "metadata": {},
   "outputs": [],
   "source": [
    "dev_wide = process_test_naives_bayes(data=dev_test, metadata=meta, session_length=5, encode = True,encoders=encoders,cols_to_encode=columns_to_encode)\n",
    "\n",
    "dev_wide_allnull=dev_wide[(dev_wide.iloc[:,0:9].T == 0).all()].copy()\n",
    "\n",
    "dev_wide_not_allnull=dev_wide[(dev_wide.iloc[:,0:9].T != 0).all()].copy()\n"
   ]
  },
  {
   "cell_type": "code",
   "execution_count": 17,
   "metadata": {
    "scrolled": true
   },
   "outputs": [
    {
     "data": {
      "text/plain": [
       "(2781, 802)"
      ]
     },
     "execution_count": 17,
     "metadata": {},
     "output_type": "execute_result"
    }
   ],
   "source": [
    "dev_wide_not_allnull.shape"
   ]
  },
  {
   "cell_type": "code",
   "execution_count": null,
   "metadata": {},
   "outputs": [],
   "source": []
  },
  {
   "cell_type": "code",
   "execution_count": null,
   "metadata": {},
   "outputs": [],
   "source": []
  },
  {
   "cell_type": "code",
   "execution_count": null,
   "metadata": {},
   "outputs": [],
   "source": []
  },
  {
   "cell_type": "code",
   "execution_count": null,
   "metadata": {},
   "outputs": [],
   "source": []
  },
  {
   "cell_type": "markdown",
   "metadata": {},
   "source": [
    "## Clean up memory"
   ]
  },
  {
   "cell_type": "code",
   "execution_count": 18,
   "metadata": {},
   "outputs": [],
   "source": [
    "# try:\n",
    "#     del sessions, train, test, dev\n",
    "# except NameError:\n",
    "#     pass\n",
    "# else:\n",
    "#     gc.collect()"
   ]
  },
  {
   "cell_type": "code",
   "execution_count": 19,
   "metadata": {},
   "outputs": [],
   "source": [
    "# columns=train_wide.dtypes.loc[((train_wide.dtypes=='category') | (train_wide.dtypes=='object'))].index\n",
    "# columns\n",
    "# for col in columns:\n",
    "#     print(col)\n",
    "#     train_wide[col]=train_wide[col].str.replace(' ','_')\n",
    "    \n",
    "# train_wide"
   ]
  },
  {
   "cell_type": "code",
   "execution_count": null,
   "metadata": {},
   "outputs": [],
   "source": []
  },
  {
   "cell_type": "markdown",
   "metadata": {},
   "source": [
    "### Fit NB"
   ]
  },
  {
   "cell_type": "code",
   "execution_count": 20,
   "metadata": {},
   "outputs": [
    {
     "data": {
      "text/plain": [
       "MultinomialNB(alpha=1.0, class_prior=None, fit_prior=True)"
      ]
     },
     "execution_count": 20,
     "metadata": {},
     "output_type": "execute_result"
    }
   ],
   "source": [
    "clf = MultinomialNB()\n",
    "clf.fit(train_wide_not_allnull.drop(['reference|1', 'reference|2', 'reference|3',\n",
    "       'reference|4', 'reference|5','timestamp','impressions','prices'],axis=1),np.ravel(y_not_allnull))"
   ]
  },
  {
   "cell_type": "code",
   "execution_count": null,
   "metadata": {},
   "outputs": [],
   "source": []
  },
  {
   "cell_type": "code",
   "execution_count": null,
   "metadata": {},
   "outputs": [],
   "source": []
  },
  {
   "cell_type": "code",
   "execution_count": 21,
   "metadata": {},
   "outputs": [],
   "source": [
    "pred=clf.predict_proba(dev_wide_not_allnull.drop(['reference|1', 'reference|2', 'reference|3',\n",
    "       'reference|4', 'reference|5','timestamp','impressions','prices','target'],axis=1))"
   ]
  },
  {
   "cell_type": "code",
   "execution_count": 22,
   "metadata": {},
   "outputs": [
    {
     "data": {
      "text/plain": [
       "(2781, 25939)"
      ]
     },
     "execution_count": 22,
     "metadata": {},
     "output_type": "execute_result"
    }
   ],
   "source": [
    "pred.shape"
   ]
  },
  {
   "cell_type": "code",
   "execution_count": null,
   "metadata": {},
   "outputs": [],
   "source": []
  },
  {
   "cell_type": "code",
   "execution_count": null,
   "metadata": {},
   "outputs": [],
   "source": []
  },
  {
   "cell_type": "code",
   "execution_count": null,
   "metadata": {},
   "outputs": [],
   "source": []
  },
  {
   "cell_type": "code",
   "execution_count": null,
   "metadata": {},
   "outputs": [],
   "source": []
  },
  {
   "cell_type": "code",
   "execution_count": null,
   "metadata": {},
   "outputs": [],
   "source": []
  },
  {
   "cell_type": "code",
   "execution_count": 23,
   "metadata": {},
   "outputs": [],
   "source": [
    "# pd.DataFrame(train_wide_not_allnull.iloc[:1000,:]['impressions'].values.tolist())\n",
    "\n",
    "# pd.DataFrame(pred,columns=clf.classes_)"
   ]
  },
  {
   "cell_type": "code",
   "execution_count": 24,
   "metadata": {},
   "outputs": [],
   "source": [
    "dev_impression=dev_wide_not_allnull[['impressions','target']].reset_index().copy()\n"
   ]
  },
  {
   "cell_type": "code",
   "execution_count": 25,
   "metadata": {},
   "outputs": [],
   "source": [
    "dev_impressions_long=dev_impression.impressions.apply(pd.Series) \\\n",
    "    .merge(dev_impression, right_index = True, left_index = True) \\\n",
    "    .drop([\"impressions\"], axis = 1)  \\\n",
    "    .melt(id_vars = ['key','target'], value_name = \"impressions\") \\\n",
    "    .drop(\"variable\", axis = 1) \\\n",
    "    .dropna() \\\n",
    "    .sort_values('key') \\\n",
    "    .reset_index(drop=True) \\\n",
    "    .copy()"
   ]
  },
  {
   "cell_type": "code",
   "execution_count": 26,
   "metadata": {},
   "outputs": [],
   "source": [
    "preddf=pd.DataFrame(data=pred,columns=clf.classes_,index=dev_wide_not_allnull.index)\n",
    "preddf['not_in_class']=0 # need to return 0 in case impression not in clf.classes_"
   ]
  },
  {
   "cell_type": "code",
   "execution_count": null,
   "metadata": {},
   "outputs": [],
   "source": []
  },
  {
   "cell_type": "code",
   "execution_count": null,
   "metadata": {},
   "outputs": [],
   "source": [
    "\n"
   ]
  },
  {
   "cell_type": "code",
   "execution_count": null,
   "metadata": {},
   "outputs": [],
   "source": [
    "\n"
   ]
  },
  {
   "cell_type": "code",
   "execution_count": null,
   "metadata": {},
   "outputs": [],
   "source": [
    "\n"
   ]
  },
  {
   "cell_type": "code",
   "execution_count": null,
   "metadata": {},
   "outputs": [],
   "source": []
  },
  {
   "cell_type": "code",
   "execution_count": 27,
   "metadata": {},
   "outputs": [],
   "source": [
    "row_index=dev_impressions_long['key'].copy()\n",
    "col_index=dev_impressions_long['impressions'].copy()\n",
    "\n",
    "mask_in_class = col_index.isin(clf.classes_) #True is in class\n",
    "col_index.loc[~mask_in_class]='not_in_class'"
   ]
  },
  {
   "cell_type": "code",
   "execution_count": 28,
   "metadata": {},
   "outputs": [],
   "source": [
    "impression_probs=preddf.lookup(row_index,col_index)"
   ]
  },
  {
   "cell_type": "code",
   "execution_count": 29,
   "metadata": {},
   "outputs": [],
   "source": [
    "dev_impressions_long['probs'] = impression_probs"
   ]
  },
  {
   "cell_type": "code",
   "execution_count": 30,
   "metadata": {},
   "outputs": [],
   "source": [
    "dev_impressions_long.sort_values(['key','probs'],ascending=[True,False],inplace=True)"
   ]
  },
  {
   "cell_type": "code",
   "execution_count": 31,
   "metadata": {},
   "outputs": [],
   "source": [
    "dev_impressions_long['rank'] = 1\n",
    "dev_impressions_long['rank'] = dev_impressions_long.groupby('key')['rank'].cumsum()"
   ]
  },
  {
   "cell_type": "code",
   "execution_count": 32,
   "metadata": {},
   "outputs": [],
   "source": [
    "dev_in_class=dev_impressions_long.loc[(dev_impressions_long.target==dev_impressions_long.impressions) \\\n",
    "                         & (dev_impressions_long.probs!=0.0),['key','rank']]"
   ]
  },
  {
   "cell_type": "code",
   "execution_count": 33,
   "metadata": {},
   "outputs": [],
   "source": [
    "dev_in_class['RR']=1/dev_in_class['rank']"
   ]
  },
  {
   "cell_type": "code",
   "execution_count": 34,
   "metadata": {},
   "outputs": [
    {
     "data": {
      "text/plain": [
       "0.4528290484293987"
      ]
     },
     "execution_count": 34,
     "metadata": {},
     "output_type": "execute_result"
    }
   ],
   "source": [
    "dev_in_class['RR'].mean()"
   ]
  },
  {
   "cell_type": "code",
   "execution_count": 40,
   "metadata": {},
   "outputs": [
    {
     "name": "stdout",
     "output_type": "stream",
     "text": [
      "(10087, 802)\n",
      "(2781, 802)\n",
      "(886, 3)\n"
     ]
    }
   ],
   "source": [
    "print(dev_wide.shape)\n",
    "print(dev_wide_not_allnull.shape)\n",
    "print(dev_in_class.shape)"
   ]
  },
  {
   "cell_type": "code",
   "execution_count": null,
   "metadata": {},
   "outputs": [],
   "source": []
  }
 ],
 "metadata": {
  "kernelspec": {
   "display_name": "Python 3",
   "language": "python",
   "name": "python3"
  },
  "language_info": {
   "codemirror_mode": {
    "name": "ipython",
    "version": 3
   },
   "file_extension": ".py",
   "mimetype": "text/x-python",
   "name": "python",
   "nbconvert_exporter": "python",
   "pygments_lexer": "ipython3",
   "version": "3.7.1"
  }
 },
 "nbformat": 4,
 "nbformat_minor": 2
}
